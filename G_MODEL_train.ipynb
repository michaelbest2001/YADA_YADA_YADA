{
  "cells": [
    {
      "cell_type": "code",
      "execution_count": null,
      "metadata": {
        "id": "xy8H3w1hb_Lx"
      },
      "outputs": [],
      "source": [
        "!pip install accelerate bitsandbytes datasets evaluate trl peft"
      ]
    },
    {
      "cell_type": "code",
      "execution_count": null,
      "metadata": {
        "id": "YJZuUvPMf3Vj"
      },
      "outputs": [],
      "source": [
        "from datasets import load_from_disk\n",
        "from transformers import (\n",
        "    AutoModelForCausalLM,\n",
        "    AutoTokenizer,\n",
        "    BitsAndBytesConfig,\n",
        "    HfArgumentParser,\n",
        "    AutoTokenizer,\n",
        "    TrainingArguments,\n",
        "    Trainer,\n",
        "    GenerationConfig\n",
        ")\n",
        "from tqdm import tqdm\n",
        "from trl import SFTTrainer\n",
        "import torch\n",
        "import time\n",
        "import pandas as pd\n",
        "import numpy as np\n",
        "from peft import LoraConfig, get_peft_model, prepare_model_for_kbit_training\n",
        "import os\n",
        "import json\n",
        "from sklearn.model_selection import train_test_split\n",
        "import re"
      ]
    },
    {
      "cell_type": "code",
      "execution_count": null,
      "metadata": {
        "id": "nz3NbqeVf4i1"
      },
      "outputs": [],
      "source": [
        "# Create Bitsandbytes configuration\n",
        "compute_dtype = getattr(torch, \"float16\")\n",
        "bnb_config = BitsAndBytesConfig(\n",
        "    load_in_4bit=True,\n",
        "    bnb_4bit_quant_type='nf4',\n",
        "    bnb_4bit_compute_dtype=compute_dtype,\n",
        "    bnb_4bit_use_double_quant=False,\n",
        ")"
      ]
    },
    {
      "cell_type": "code",
      "execution_count": null,
      "metadata": {
        "id": "KfkZIV0xf59U",
        "collapsed": true
      },
      "outputs": [],
      "source": [
        "# Loading the Pre-Trained model\n",
        "model_name = \"meta-llama/Meta-Llama-3.1-8B-Instruct\"\n",
        "\n",
        "original_model = AutoModelForCausalLM.from_pretrained(\n",
        "    model_name,\n",
        "    quantization_config=bnb_config,\n",
        "    device_map=\"auto\",\n",
        "\n",
        "    use_auth_token=True\n",
        ")"
      ]
    },
    {
      "cell_type": "code",
      "execution_count": null,
      "metadata": {
        "id": "fE4xpol3f6vn"
      },
      "outputs": [],
      "source": [
        "# Tokenization setup\n",
        "tokenizer = AutoTokenizer.from_pretrained(\n",
        "    model_name,\n",
        "    trust_remote_code=True,\n",
        "    padding_side=\"left\",\n",
        "    add_eos_token=True,\n",
        "    add_bos_token=True,\n",
        "    use_fast=False\n",
        ")\n",
        "tokenizer.pad_token = tokenizer.eos_token"
      ]
    },
    {
      "cell_type": "code",
      "execution_count": null,
      "metadata": {
        "id": "bgR90h4ekWSn"
      },
      "outputs": [],
      "source": [
        "\n",
        "def load_text_files(dataset_dir):\n",
        "    \"\"\"Load all text files from the season folders.\"\"\"\n",
        "    # store ir in a dateframe\n",
        "    texts = []\n",
        "    for season_folder in os.listdir(dataset_dir):\n",
        "        season_path = os.path.join(dataset_dir, season_folder)\n",
        "        if os.path.isdir(season_path):\n",
        "            for episode_file in os.listdir(season_path):\n",
        "                if episode_file.endswith(\".txt\"):\n",
        "                    episode_path = os.path.join(season_path, episode_file)\n",
        "                    with open(episode_path, \"r\", encoding=\"utf-8\") as f:\n",
        "                        episode_text = f.read()\n",
        "                        texts.append(episode_text)\n",
        "\n",
        "    return texts\n",
        "\n",
        "def tokenize_dataset(texts, tokenizer, max_length=2048):\n",
        "    \"\"\"Tokenize a list of text episodes and structure as expected by Trainer.\"\"\"\n",
        "    tokenized_data = tokenizer(\n",
        "        texts,\n",
        "        truncation=True,\n",
        "        max_length=max_length,\n",
        "        padding=\"max_length\",\n",
        "        return_tensors=\"pt\"\n",
        "    )\n",
        "    # Convert to list of dictionaries with 'input_ids' key\n",
        "    return [{\"input_ids\": ids} for ids in tokenized_data[\"input_ids\"]]\n",
        "\n",
        "def tokenize_function(examples):\n",
        "    return tokenizer(examples[\"text\"], padding=\"max_length\", truncation=True, max_length=2048)\n",
        "\n",
        "def save_splits(dataset_splits, output_dir):\n",
        "    \"\"\"Save train, validation, and test splits.\"\"\"\n",
        "    # Create val, train, and test dirs if they don't exist\n",
        "    os.makedirs(output_dir, exist_ok=True)\n",
        "    for split_name, split_data in dataset_splits.items():\n",
        "        split_dir = os.path.join(output_dir, split_name)\n",
        "        os.makedirs(split_dir, exist_ok=True)\n",
        "\n",
        "    # Save the data in the corresponding folder\n",
        "    for split_name, split_data in dataset_splits.items():\n",
        "        split_dir = os.path.join(output_dir, split_name)\n",
        "        for idx, text in enumerate(split_data):\n",
        "            # Split text into lines and get the fifth line\n",
        "            lines = text.splitlines()\n",
        "            if len(lines) >= 5:  # Ensure the file has at least 5 lines\n",
        "                # Get the first word from the fifth line\n",
        "                first_word = lines[4].split(maxsplit=1)[0]  # Safely split the fifth line\n",
        "                file_name = f\"{first_word}.txt\"\n",
        "            else:\n",
        "                # Default to index if the file doesn't have enough lines\n",
        "                file_name = f\"{idx}.txt\"\n",
        "\n",
        "            # Save the file with the determined name\n",
        "            file_path = os.path.join(split_dir, file_name)\n",
        "            with open(file_path, \"w\", encoding=\"utf-8\") as f:\n",
        "                f.write(text)\n",
        "\n",
        "    print(f\"Splits saved in {output_dir}\")\n",
        "\n",
        "# 2. Split Dataset\n",
        "def split_dataset(data, train_size=0.8, val_size=0.1, random_seed=42):\n",
        "    \"\"\"Split dataset into train, validation\"\"\"\n",
        "    train_data, val_data = train_test_split(data, train_size=train_size, random_state=random_seed)\n",
        "    return train_data, val_data\n",
        "\n",
        "def load_split(split_dir):\n",
        "  train = []\n",
        "  val = []\n",
        "  for file in os.listdir(os.path.join(split_dir,'TRAIN_DATA')):\n",
        "    if file.endswith(\".txt\"):\n",
        "      with open(os.path.join(split_dir,'TRAIN_DATA',file), 'r') as f:\n",
        "        text = f.read()\n",
        "        train.append((text, file))\n",
        "        print(f\"added {file} to train\")\n",
        "  for file in os.listdir(os.path.join(split_dir,'VALIDATION')):\n",
        "    if file.endswith(\".txt\"):\n",
        "      with open(os.path.join(split_dir,'VALIDATION',file), 'r') as f:\n",
        "        text = f.read()\n",
        "        val.append((text, file))\n",
        "        print(f\"added {file} to val\")\n",
        "  return train, val\n"
      ]
    },
    {
      "cell_type": "code",
      "execution_count": null,
      "metadata": {
        "collapsed": true,
        "id": "JIAhFMot-OHt"
      },
      "outputs": [],
      "source": [
        "# Paths\n",
        "split_dir = \"path_to_dataset\"\n",
        "\n",
        "train_data, val_data = load_split(split_dir)"
      ]
    },
    {
      "cell_type": "code",
      "execution_count": null,
      "metadata": {
        "colab": {
          "base_uri": "https://localhost:8080/",
          "height": 351,
          "referenced_widgets": [
            "fdd66f7d4154490395fed0bd1abb7d6e",
            "2e0c9c54675c41b28c927ad4c9180415",
            "e80aef37bf184872bce7e4e2f2def7da",
            "7701cabece4346c8a2869344745d4c55",
            "07b80699fae34355a7b586bd9eb2eb18",
            "a792f4a63632491ab69f65b8589ce37c",
            "c6970bff1459461f98324ee020c6147f",
            "73c5e32efb6e4306b4b235a6f6c747cb",
            "20448423bbd544b0ae229d6f7d59d59b",
            "92a1fd6afaf8453bba1fc304308e94b9",
            "d1af88569ba94024903c7bca1a9ddad3",
            "89b477a8d58547fe8b7df57410252b02",
            "e7e2f777ee9b4242a3d0f8a9cf8a89d6",
            "e2cdd0573c354051a3f7e0a165a9e2e9",
            "b019e16841144e97975551726e6f62f5",
            "a7a975fca8854ca29845d84e41ddcee9",
            "218cc29f81ef4bd3b0f97b9377dd7427",
            "11699a99c3454c2085706e374717ab30",
            "96a3d9792747441692889813a5834813",
            "57203fc187a9494f8c294fe222e44ccc",
            "cdf20f969bd5458aaf3ab1b4363f434b",
            "3be6c7890b454e02b5cce9e194e1f25a"
          ]
        },
        "collapsed": true,
        "id": "l-kZXMKXhjir",
        "outputId": "9d568337-114d-4e27-830f-bded45d17669"
      },
      "outputs": [
        {
          "name": "stdout",
          "output_type": "stream",
          "text": [
            "Train size: 6285, Validation size: 699\n",
            "max token length: 508. with text: JERRY SEINFELD: [Pleading] Oh, come on. He's just a lonely old man. All old people steal.\n",
            "MANAGER: That's right. That's why we stopped carrying batteries. Look, I'll be honest with you, we've had a lot of trouble with theft lately - and my boss says I have to make an example to someone.\n",
            "JERRY SEINFELD: So it could be anyone?\n",
            "MANAGER: I.. guess. As long as we catch him in the act.\n",
            "[Jerry turns to George. George has a huge bundle under his overcoat - and is trying to act innocent]\n",
            "JERRY SEINFELD: That guy! [Pointing at George] Swarm! Swarm!\n",
            "[George is instantly surrounded by guards]\n",
            "GEORGE COSTANZA: No! Jerry!\n",
            "[End scene]\n",
            "[End of episode]\n",
            "train sample: {'text': '[Scene: Comedy club]\\nJERRY SEINFELD: You know, why we\\'re here? [he means: here in the \"Comedy club\"] To be out, this is out...and out is one of the single most enjoyable experiences of life. People...did you ever hear people talking about \"We should go out\"? This is what they\\'re talking about...this whole thing, we\\'re all out now, no one is home. Not one person here is home, we\\'re all out! There are people tryin\\' to find us, they don\\'t know where we are. [imitates one of these people \"tryin\\' to find us\"; pretends his hand is a phone] \"Did you ring?, I can\\'t find him.\" [imitates other person on phone] \"Where did he go?\" [the first person again] \"He didn\\'t tell me where he was going\". He must have gone out. You wanna go out: you get ready, you pick out the clothes, right? You take the shower, you get all ready, get the cash, get your friends, the car, the spot, the reservation...There you\\'re staring around, whatta you do? You go: \"We gotta be getting back\". Once you\\'re out, you wanna get back! You wanna go to sleep, you wanna get up, you wanna go out again tomorrow, right? Wherever you are in life, it\\'s my feeling, you\\'ve gotta go.\\n[End scene]'}\n",
            "val sample: {'text': 'Title: The Library\\nAir Date: October 16, 1991\\nWriters: Larry Charles\\nDirector: Joshua White\\nS03E5 - 22 OUT OF 180'}\n"
          ]
        },
        {
          "data": {
            "application/vnd.jupyter.widget-view+json": {
              "model_id": "fdd66f7d4154490395fed0bd1abb7d6e",
              "version_major": 2,
              "version_minor": 0
            },
            "text/plain": [
              "Map:   0%|          | 0/6285 [00:00<?, ? examples/s]"
            ]
          },
          "metadata": {},
          "output_type": "display_data"
        },
        {
          "data": {
            "application/vnd.jupyter.widget-view+json": {
              "model_id": "89b477a8d58547fe8b7df57410252b02",
              "version_major": 2,
              "version_minor": 0
            },
            "text/plain": [
              "Map:   0%|          | 0/699 [00:00<?, ? examples/s]"
            ]
          },
          "metadata": {},
          "output_type": "display_data"
        },
        {
          "name": "stdout",
          "output_type": "stream",
          "text": [
            "tokenized train size: 6285, tokenized val size: 699\n"
          ]
        }
      ],
      "source": [
        "from datasets import Dataset\n",
        "#sort it acoording to the scene_name\n",
        "train_data = sorted(train_data, key=lambda x: x[1])\n",
        "val_data = sorted(val_data, key=lambda x: x[1])\n",
        "#take only the text\n",
        "train_data = [x[0] for x in train_data]\n",
        "val_data = [x[0] for x in val_data]\n",
        "\n",
        "print(f\"Train size: {len(train_data)}, Validation size: {len(val_data)}\")\n",
        "len_token, text = compute_max_token_length(train_data + val_data, tokenizer)\n",
        "print(f\"max token length: {len_token}. with text: {text}\")\n",
        "\n",
        "# Step 5: Save splits\n",
        "#save_splits(dataset_splits, output_split_dir)\n",
        "train_dataset = Dataset.from_dict({\"text\": train_data})\n",
        "val_dataset = Dataset.from_dict({\"text\": val_data})\n",
        "print(f\"train sample: {train_dataset[0]}\")\n",
        "print(f\"val sample: {val_dataset[0]}\")\n",
        "# tokenize the train and save it in a dict with input_ids\n",
        "tokenized_train_dataset = train_dataset.map(tokenize_function, batched=True)\n",
        "tokenized_val_dataset = val_dataset.map(tokenize_function, batched=True)\n",
        "print(f\"tokenized train size: {len(tokenized_train_dataset)}, tokenized val size: {len(tokenized_val_dataset)}\")\n"
      ]
    },
    {
      "cell_type": "code",
      "execution_count": null,
      "metadata": {
        "id": "Ue7Vz-5-f99f"
      },
      "outputs": [],
      "source": [
        "config = LoraConfig(\n",
        "    r=32, #Rank\n",
        "    lora_alpha=16,\n",
        "    target_modules=[\n",
        "        'q_proj',\n",
        "        'v_proj',\n",
        "    ],\n",
        "    bias=\"none\",\n",
        "    task_type=\"CAUSAL_LM\",\n",
        "    lora_dropout=0.1\n",
        ")\n",
        "\n",
        "#Enabling gradient checkpointing to reduce memory usage during fine-tuning\n",
        "original_model.gradient_checkpointing_enable()\n",
        "original_model.enable_input_require_grads()\n",
        "peft_model = get_peft_model(original_model, config)"
      ]
    },
    {
      "cell_type": "code",
      "execution_count": null,
      "metadata": {
        "colab": {
          "base_uri": "https://localhost:8080/"
        },
        "id": "2V-lHTkNgfOr",
        "outputId": "bf8c340a-eb35-4467-d700-f1c3634b4b52"
      },
      "outputs": [
        {
          "name": "stdout",
          "output_type": "stream",
          "text": [
            "trainable params: 13,631,488 || all params: 8,043,892,736 || trainable%: 0.1695\n"
          ]
        }
      ],
      "source": [
        "peft_model.print_trainable_parameters()"
      ]
    },
    {
      "cell_type": "code",
      "execution_count": null,
      "metadata": {
        "id": "o6435On2ggNa"
      },
      "outputs": [],
      "source": [
        "output_dir = \"path_to_checkpoint\"\n",
        "\n",
        "peft_training_args = TrainingArguments(\n",
        "    output_dir=output_dir,\n",
        "    per_device_train_batch_size=1,  # Default batch size\n",
        "    gradient_accumulation_steps=4,  # Helps with memory efficiency\n",
        "    num_train_epochs=5,  # Default number of epochs\n",
        "    learning_rate=2e-4,  # Initial learning rate\n",
        "    lr_scheduler_type=\"linear\",  # Linear scheduler for learning rate\n",
        "    warmup_ratio=0.05,  # 5% of total steps dynamically calculated for warm-up\n",
        "    optim=\"paged_adamw_8bit\",  # Memory-efficient optimizer\n",
        "    logging_steps=10,  # Logging frequency\n",
        "    logging_dir = output_dir + \"/logs\",\n",
        "    save_strategy=\"epoch\",  # Save model checkpoint after each epoch\n",
        "    eval_strategy=\"steps\",  # Evaluate after each epoch\n",
        "    eval_steps = 200,\n",
        "    do_eval=True,  # Enable evaluation\n",
        "    gradient_checkpointing=True,  # Memory-efficient training\n",
        "    report_to=\"none\",  # Disable reporting to external services\n",
        "    overwrite_output_dir=True,  # Overwrite output directory if it exists\n",
        "    group_by_length=True,  # Optimizes tokenization efficiency\n",
        "    resume_from_checkpoint=True,  # Resume interrupted training\n",
        "    dropout=0.1,  # Applies dropout to LoRA parameters\n",
        "    weight_decay=0.01,  # Regularization to avoid overfitting\n",
        ")\n"
      ]
    },
    {
      "cell_type": "code",
      "execution_count": null,
      "metadata": {
        "id": "GpkEQmoaghV6"
      },
      "outputs": [],
      "source": [
        "import transformers\n",
        "peft_model.config.use_cache = False"
      ]
    },
    {
      "cell_type": "code",
      "execution_count": null,
      "metadata": {
        "id": "0Edo_Vd9giaS"
      },
      "outputs": [],
      "source": [
        "\n",
        "peft_trainer = transformers.Trainer(\n",
        "    model=peft_model,\n",
        "    train_dataset=tokenized_train_dataset,\n",
        "    eval_dataset=tokenized_val_dataset,\n",
        "    args=peft_training_args,\n",
        "    data_collator=transformers.DataCollatorForLanguageModeling(tokenizer=tokenizer, mlm=False),\n",
        "    processing_class=tokenizer\n",
        ")"
      ]
    },
    {
      "cell_type": "code",
      "execution_count": null,
      "metadata": {
        "id": "KtSpdn6XyyR0"
      },
      "outputs": [],
      "source": [
        "import os\n",
        "# Set the environment variable\n",
        "os.environ['PYTORCH_CUDA_ALLOC_CONF'] = 'expandable_segments:True'"
      ]
    },
    {
      "cell_type": "code",
      "execution_count": null,
      "metadata": {
        "collapsed": true,
        "id": "_B3rRpb6m9Yg"
      },
      "outputs": [],
      "source": [
        "peft_model.train()"
      ]
    },
    {
      "cell_type": "code",
      "execution_count": null,
      "metadata": {
        "colab": {
          "background_save": true
        },
        "id": "8aT-cp9nIrCB"
      },
      "outputs": [],
      "source": [
        "\n",
        "# resume from checkpoint if checkpoint dor is not empty\n",
        "if os.path.exists(peft_training_args.output_dir) and len(os.listdir(peft_training_args.output_dir)) > 0:\n",
        "    peft_trainer.train(resume_from_checkpoint=True)\n",
        "else:\n",
        "    peft_trainer.train()  # Start training from scratch if no checkpoint exists\n"
      ]
    }
  ],
  "metadata": {
    "accelerator": "GPU",
    "colab": {
      "gpuType": "A100",
      "machine_shape": "hm",
      "provenance": []
    },
    "kernelspec": {
      "display_name": "Python 3",
      "name": "python3"
    },
    "language_info": {
      "name": "python"
    },
    "widgets": {
      "application/vnd.jupyter.widget-state+json": {
        "07b80699fae34355a7b586bd9eb2eb18": {
          "model_module": "@jupyter-widgets/base",
          "model_module_version": "1.2.0",
          "model_name": "LayoutModel",
          "state": {
            "_model_module": "@jupyter-widgets/base",
            "_model_module_version": "1.2.0",
            "_model_name": "LayoutModel",
            "_view_count": null,
            "_view_module": "@jupyter-widgets/base",
            "_view_module_version": "1.2.0",
            "_view_name": "LayoutView",
            "align_content": null,
            "align_items": null,
            "align_self": null,
            "border": null,
            "bottom": null,
            "display": null,
            "flex": null,
            "flex_flow": null,
            "grid_area": null,
            "grid_auto_columns": null,
            "grid_auto_flow": null,
            "grid_auto_rows": null,
            "grid_column": null,
            "grid_gap": null,
            "grid_row": null,
            "grid_template_areas": null,
            "grid_template_columns": null,
            "grid_template_rows": null,
            "height": null,
            "justify_content": null,
            "justify_items": null,
            "left": null,
            "margin": null,
            "max_height": null,
            "max_width": null,
            "min_height": null,
            "min_width": null,
            "object_fit": null,
            "object_position": null,
            "order": null,
            "overflow": null,
            "overflow_x": null,
            "overflow_y": null,
            "padding": null,
            "right": null,
            "top": null,
            "visibility": null,
            "width": null
          }
        },
        "11699a99c3454c2085706e374717ab30": {
          "model_module": "@jupyter-widgets/controls",
          "model_module_version": "1.5.0",
          "model_name": "DescriptionStyleModel",
          "state": {
            "_model_module": "@jupyter-widgets/controls",
            "_model_module_version": "1.5.0",
            "_model_name": "DescriptionStyleModel",
            "_view_count": null,
            "_view_module": "@jupyter-widgets/base",
            "_view_module_version": "1.2.0",
            "_view_name": "StyleView",
            "description_width": ""
          }
        },
        "20448423bbd544b0ae229d6f7d59d59b": {
          "model_module": "@jupyter-widgets/controls",
          "model_module_version": "1.5.0",
          "model_name": "ProgressStyleModel",
          "state": {
            "_model_module": "@jupyter-widgets/controls",
            "_model_module_version": "1.5.0",
            "_model_name": "ProgressStyleModel",
            "_view_count": null,
            "_view_module": "@jupyter-widgets/base",
            "_view_module_version": "1.2.0",
            "_view_name": "StyleView",
            "bar_color": null,
            "description_width": ""
          }
        },
        "218cc29f81ef4bd3b0f97b9377dd7427": {
          "model_module": "@jupyter-widgets/base",
          "model_module_version": "1.2.0",
          "model_name": "LayoutModel",
          "state": {
            "_model_module": "@jupyter-widgets/base",
            "_model_module_version": "1.2.0",
            "_model_name": "LayoutModel",
            "_view_count": null,
            "_view_module": "@jupyter-widgets/base",
            "_view_module_version": "1.2.0",
            "_view_name": "LayoutView",
            "align_content": null,
            "align_items": null,
            "align_self": null,
            "border": null,
            "bottom": null,
            "display": null,
            "flex": null,
            "flex_flow": null,
            "grid_area": null,
            "grid_auto_columns": null,
            "grid_auto_flow": null,
            "grid_auto_rows": null,
            "grid_column": null,
            "grid_gap": null,
            "grid_row": null,
            "grid_template_areas": null,
            "grid_template_columns": null,
            "grid_template_rows": null,
            "height": null,
            "justify_content": null,
            "justify_items": null,
            "left": null,
            "margin": null,
            "max_height": null,
            "max_width": null,
            "min_height": null,
            "min_width": null,
            "object_fit": null,
            "object_position": null,
            "order": null,
            "overflow": null,
            "overflow_x": null,
            "overflow_y": null,
            "padding": null,
            "right": null,
            "top": null,
            "visibility": null,
            "width": null
          }
        },
        "2e0c9c54675c41b28c927ad4c9180415": {
          "model_module": "@jupyter-widgets/controls",
          "model_module_version": "1.5.0",
          "model_name": "HTMLModel",
          "state": {
            "_dom_classes": [],
            "_model_module": "@jupyter-widgets/controls",
            "_model_module_version": "1.5.0",
            "_model_name": "HTMLModel",
            "_view_count": null,
            "_view_module": "@jupyter-widgets/controls",
            "_view_module_version": "1.5.0",
            "_view_name": "HTMLView",
            "description": "",
            "description_tooltip": null,
            "layout": "IPY_MODEL_a792f4a63632491ab69f65b8589ce37c",
            "placeholder": "​",
            "style": "IPY_MODEL_c6970bff1459461f98324ee020c6147f",
            "value": "Map: 100%"
          }
        },
        "3be6c7890b454e02b5cce9e194e1f25a": {
          "model_module": "@jupyter-widgets/controls",
          "model_module_version": "1.5.0",
          "model_name": "DescriptionStyleModel",
          "state": {
            "_model_module": "@jupyter-widgets/controls",
            "_model_module_version": "1.5.0",
            "_model_name": "DescriptionStyleModel",
            "_view_count": null,
            "_view_module": "@jupyter-widgets/base",
            "_view_module_version": "1.2.0",
            "_view_name": "StyleView",
            "description_width": ""
          }
        },
        "57203fc187a9494f8c294fe222e44ccc": {
          "model_module": "@jupyter-widgets/controls",
          "model_module_version": "1.5.0",
          "model_name": "ProgressStyleModel",
          "state": {
            "_model_module": "@jupyter-widgets/controls",
            "_model_module_version": "1.5.0",
            "_model_name": "ProgressStyleModel",
            "_view_count": null,
            "_view_module": "@jupyter-widgets/base",
            "_view_module_version": "1.2.0",
            "_view_name": "StyleView",
            "bar_color": null,
            "description_width": ""
          }
        },
        "73c5e32efb6e4306b4b235a6f6c747cb": {
          "model_module": "@jupyter-widgets/base",
          "model_module_version": "1.2.0",
          "model_name": "LayoutModel",
          "state": {
            "_model_module": "@jupyter-widgets/base",
            "_model_module_version": "1.2.0",
            "_model_name": "LayoutModel",
            "_view_count": null,
            "_view_module": "@jupyter-widgets/base",
            "_view_module_version": "1.2.0",
            "_view_name": "LayoutView",
            "align_content": null,
            "align_items": null,
            "align_self": null,
            "border": null,
            "bottom": null,
            "display": null,
            "flex": null,
            "flex_flow": null,
            "grid_area": null,
            "grid_auto_columns": null,
            "grid_auto_flow": null,
            "grid_auto_rows": null,
            "grid_column": null,
            "grid_gap": null,
            "grid_row": null,
            "grid_template_areas": null,
            "grid_template_columns": null,
            "grid_template_rows": null,
            "height": null,
            "justify_content": null,
            "justify_items": null,
            "left": null,
            "margin": null,
            "max_height": null,
            "max_width": null,
            "min_height": null,
            "min_width": null,
            "object_fit": null,
            "object_position": null,
            "order": null,
            "overflow": null,
            "overflow_x": null,
            "overflow_y": null,
            "padding": null,
            "right": null,
            "top": null,
            "visibility": null,
            "width": null
          }
        },
        "7701cabece4346c8a2869344745d4c55": {
          "model_module": "@jupyter-widgets/controls",
          "model_module_version": "1.5.0",
          "model_name": "HTMLModel",
          "state": {
            "_dom_classes": [],
            "_model_module": "@jupyter-widgets/controls",
            "_model_module_version": "1.5.0",
            "_model_name": "HTMLModel",
            "_view_count": null,
            "_view_module": "@jupyter-widgets/controls",
            "_view_module_version": "1.5.0",
            "_view_name": "HTMLView",
            "description": "",
            "description_tooltip": null,
            "layout": "IPY_MODEL_92a1fd6afaf8453bba1fc304308e94b9",
            "placeholder": "​",
            "style": "IPY_MODEL_d1af88569ba94024903c7bca1a9ddad3",
            "value": " 6285/6285 [00:05&lt;00:00, 1176.42 examples/s]"
          }
        },
        "89b477a8d58547fe8b7df57410252b02": {
          "model_module": "@jupyter-widgets/controls",
          "model_module_version": "1.5.0",
          "model_name": "HBoxModel",
          "state": {
            "_dom_classes": [],
            "_model_module": "@jupyter-widgets/controls",
            "_model_module_version": "1.5.0",
            "_model_name": "HBoxModel",
            "_view_count": null,
            "_view_module": "@jupyter-widgets/controls",
            "_view_module_version": "1.5.0",
            "_view_name": "HBoxView",
            "box_style": "",
            "children": [
              "IPY_MODEL_e7e2f777ee9b4242a3d0f8a9cf8a89d6",
              "IPY_MODEL_e2cdd0573c354051a3f7e0a165a9e2e9",
              "IPY_MODEL_b019e16841144e97975551726e6f62f5"
            ],
            "layout": "IPY_MODEL_a7a975fca8854ca29845d84e41ddcee9"
          }
        },
        "92a1fd6afaf8453bba1fc304308e94b9": {
          "model_module": "@jupyter-widgets/base",
          "model_module_version": "1.2.0",
          "model_name": "LayoutModel",
          "state": {
            "_model_module": "@jupyter-widgets/base",
            "_model_module_version": "1.2.0",
            "_model_name": "LayoutModel",
            "_view_count": null,
            "_view_module": "@jupyter-widgets/base",
            "_view_module_version": "1.2.0",
            "_view_name": "LayoutView",
            "align_content": null,
            "align_items": null,
            "align_self": null,
            "border": null,
            "bottom": null,
            "display": null,
            "flex": null,
            "flex_flow": null,
            "grid_area": null,
            "grid_auto_columns": null,
            "grid_auto_flow": null,
            "grid_auto_rows": null,
            "grid_column": null,
            "grid_gap": null,
            "grid_row": null,
            "grid_template_areas": null,
            "grid_template_columns": null,
            "grid_template_rows": null,
            "height": null,
            "justify_content": null,
            "justify_items": null,
            "left": null,
            "margin": null,
            "max_height": null,
            "max_width": null,
            "min_height": null,
            "min_width": null,
            "object_fit": null,
            "object_position": null,
            "order": null,
            "overflow": null,
            "overflow_x": null,
            "overflow_y": null,
            "padding": null,
            "right": null,
            "top": null,
            "visibility": null,
            "width": null
          }
        },
        "96a3d9792747441692889813a5834813": {
          "model_module": "@jupyter-widgets/base",
          "model_module_version": "1.2.0",
          "model_name": "LayoutModel",
          "state": {
            "_model_module": "@jupyter-widgets/base",
            "_model_module_version": "1.2.0",
            "_model_name": "LayoutModel",
            "_view_count": null,
            "_view_module": "@jupyter-widgets/base",
            "_view_module_version": "1.2.0",
            "_view_name": "LayoutView",
            "align_content": null,
            "align_items": null,
            "align_self": null,
            "border": null,
            "bottom": null,
            "display": null,
            "flex": null,
            "flex_flow": null,
            "grid_area": null,
            "grid_auto_columns": null,
            "grid_auto_flow": null,
            "grid_auto_rows": null,
            "grid_column": null,
            "grid_gap": null,
            "grid_row": null,
            "grid_template_areas": null,
            "grid_template_columns": null,
            "grid_template_rows": null,
            "height": null,
            "justify_content": null,
            "justify_items": null,
            "left": null,
            "margin": null,
            "max_height": null,
            "max_width": null,
            "min_height": null,
            "min_width": null,
            "object_fit": null,
            "object_position": null,
            "order": null,
            "overflow": null,
            "overflow_x": null,
            "overflow_y": null,
            "padding": null,
            "right": null,
            "top": null,
            "visibility": null,
            "width": null
          }
        },
        "a792f4a63632491ab69f65b8589ce37c": {
          "model_module": "@jupyter-widgets/base",
          "model_module_version": "1.2.0",
          "model_name": "LayoutModel",
          "state": {
            "_model_module": "@jupyter-widgets/base",
            "_model_module_version": "1.2.0",
            "_model_name": "LayoutModel",
            "_view_count": null,
            "_view_module": "@jupyter-widgets/base",
            "_view_module_version": "1.2.0",
            "_view_name": "LayoutView",
            "align_content": null,
            "align_items": null,
            "align_self": null,
            "border": null,
            "bottom": null,
            "display": null,
            "flex": null,
            "flex_flow": null,
            "grid_area": null,
            "grid_auto_columns": null,
            "grid_auto_flow": null,
            "grid_auto_rows": null,
            "grid_column": null,
            "grid_gap": null,
            "grid_row": null,
            "grid_template_areas": null,
            "grid_template_columns": null,
            "grid_template_rows": null,
            "height": null,
            "justify_content": null,
            "justify_items": null,
            "left": null,
            "margin": null,
            "max_height": null,
            "max_width": null,
            "min_height": null,
            "min_width": null,
            "object_fit": null,
            "object_position": null,
            "order": null,
            "overflow": null,
            "overflow_x": null,
            "overflow_y": null,
            "padding": null,
            "right": null,
            "top": null,
            "visibility": null,
            "width": null
          }
        },
        "a7a975fca8854ca29845d84e41ddcee9": {
          "model_module": "@jupyter-widgets/base",
          "model_module_version": "1.2.0",
          "model_name": "LayoutModel",
          "state": {
            "_model_module": "@jupyter-widgets/base",
            "_model_module_version": "1.2.0",
            "_model_name": "LayoutModel",
            "_view_count": null,
            "_view_module": "@jupyter-widgets/base",
            "_view_module_version": "1.2.0",
            "_view_name": "LayoutView",
            "align_content": null,
            "align_items": null,
            "align_self": null,
            "border": null,
            "bottom": null,
            "display": null,
            "flex": null,
            "flex_flow": null,
            "grid_area": null,
            "grid_auto_columns": null,
            "grid_auto_flow": null,
            "grid_auto_rows": null,
            "grid_column": null,
            "grid_gap": null,
            "grid_row": null,
            "grid_template_areas": null,
            "grid_template_columns": null,
            "grid_template_rows": null,
            "height": null,
            "justify_content": null,
            "justify_items": null,
            "left": null,
            "margin": null,
            "max_height": null,
            "max_width": null,
            "min_height": null,
            "min_width": null,
            "object_fit": null,
            "object_position": null,
            "order": null,
            "overflow": null,
            "overflow_x": null,
            "overflow_y": null,
            "padding": null,
            "right": null,
            "top": null,
            "visibility": null,
            "width": null
          }
        },
        "b019e16841144e97975551726e6f62f5": {
          "model_module": "@jupyter-widgets/controls",
          "model_module_version": "1.5.0",
          "model_name": "HTMLModel",
          "state": {
            "_dom_classes": [],
            "_model_module": "@jupyter-widgets/controls",
            "_model_module_version": "1.5.0",
            "_model_name": "HTMLModel",
            "_view_count": null,
            "_view_module": "@jupyter-widgets/controls",
            "_view_module_version": "1.5.0",
            "_view_name": "HTMLView",
            "description": "",
            "description_tooltip": null,
            "layout": "IPY_MODEL_cdf20f969bd5458aaf3ab1b4363f434b",
            "placeholder": "​",
            "style": "IPY_MODEL_3be6c7890b454e02b5cce9e194e1f25a",
            "value": " 699/699 [00:00&lt;00:00, 1254.98 examples/s]"
          }
        },
        "c6970bff1459461f98324ee020c6147f": {
          "model_module": "@jupyter-widgets/controls",
          "model_module_version": "1.5.0",
          "model_name": "DescriptionStyleModel",
          "state": {
            "_model_module": "@jupyter-widgets/controls",
            "_model_module_version": "1.5.0",
            "_model_name": "DescriptionStyleModel",
            "_view_count": null,
            "_view_module": "@jupyter-widgets/base",
            "_view_module_version": "1.2.0",
            "_view_name": "StyleView",
            "description_width": ""
          }
        },
        "cdf20f969bd5458aaf3ab1b4363f434b": {
          "model_module": "@jupyter-widgets/base",
          "model_module_version": "1.2.0",
          "model_name": "LayoutModel",
          "state": {
            "_model_module": "@jupyter-widgets/base",
            "_model_module_version": "1.2.0",
            "_model_name": "LayoutModel",
            "_view_count": null,
            "_view_module": "@jupyter-widgets/base",
            "_view_module_version": "1.2.0",
            "_view_name": "LayoutView",
            "align_content": null,
            "align_items": null,
            "align_self": null,
            "border": null,
            "bottom": null,
            "display": null,
            "flex": null,
            "flex_flow": null,
            "grid_area": null,
            "grid_auto_columns": null,
            "grid_auto_flow": null,
            "grid_auto_rows": null,
            "grid_column": null,
            "grid_gap": null,
            "grid_row": null,
            "grid_template_areas": null,
            "grid_template_columns": null,
            "grid_template_rows": null,
            "height": null,
            "justify_content": null,
            "justify_items": null,
            "left": null,
            "margin": null,
            "max_height": null,
            "max_width": null,
            "min_height": null,
            "min_width": null,
            "object_fit": null,
            "object_position": null,
            "order": null,
            "overflow": null,
            "overflow_x": null,
            "overflow_y": null,
            "padding": null,
            "right": null,
            "top": null,
            "visibility": null,
            "width": null
          }
        },
        "d1af88569ba94024903c7bca1a9ddad3": {
          "model_module": "@jupyter-widgets/controls",
          "model_module_version": "1.5.0",
          "model_name": "DescriptionStyleModel",
          "state": {
            "_model_module": "@jupyter-widgets/controls",
            "_model_module_version": "1.5.0",
            "_model_name": "DescriptionStyleModel",
            "_view_count": null,
            "_view_module": "@jupyter-widgets/base",
            "_view_module_version": "1.2.0",
            "_view_name": "StyleView",
            "description_width": ""
          }
        },
        "e2cdd0573c354051a3f7e0a165a9e2e9": {
          "model_module": "@jupyter-widgets/controls",
          "model_module_version": "1.5.0",
          "model_name": "FloatProgressModel",
          "state": {
            "_dom_classes": [],
            "_model_module": "@jupyter-widgets/controls",
            "_model_module_version": "1.5.0",
            "_model_name": "FloatProgressModel",
            "_view_count": null,
            "_view_module": "@jupyter-widgets/controls",
            "_view_module_version": "1.5.0",
            "_view_name": "ProgressView",
            "bar_style": "success",
            "description": "",
            "description_tooltip": null,
            "layout": "IPY_MODEL_96a3d9792747441692889813a5834813",
            "max": 699,
            "min": 0,
            "orientation": "horizontal",
            "style": "IPY_MODEL_57203fc187a9494f8c294fe222e44ccc",
            "value": 699
          }
        },
        "e7e2f777ee9b4242a3d0f8a9cf8a89d6": {
          "model_module": "@jupyter-widgets/controls",
          "model_module_version": "1.5.0",
          "model_name": "HTMLModel",
          "state": {
            "_dom_classes": [],
            "_model_module": "@jupyter-widgets/controls",
            "_model_module_version": "1.5.0",
            "_model_name": "HTMLModel",
            "_view_count": null,
            "_view_module": "@jupyter-widgets/controls",
            "_view_module_version": "1.5.0",
            "_view_name": "HTMLView",
            "description": "",
            "description_tooltip": null,
            "layout": "IPY_MODEL_218cc29f81ef4bd3b0f97b9377dd7427",
            "placeholder": "​",
            "style": "IPY_MODEL_11699a99c3454c2085706e374717ab30",
            "value": "Map: 100%"
          }
        },
        "e80aef37bf184872bce7e4e2f2def7da": {
          "model_module": "@jupyter-widgets/controls",
          "model_module_version": "1.5.0",
          "model_name": "FloatProgressModel",
          "state": {
            "_dom_classes": [],
            "_model_module": "@jupyter-widgets/controls",
            "_model_module_version": "1.5.0",
            "_model_name": "FloatProgressModel",
            "_view_count": null,
            "_view_module": "@jupyter-widgets/controls",
            "_view_module_version": "1.5.0",
            "_view_name": "ProgressView",
            "bar_style": "success",
            "description": "",
            "description_tooltip": null,
            "layout": "IPY_MODEL_73c5e32efb6e4306b4b235a6f6c747cb",
            "max": 6285,
            "min": 0,
            "orientation": "horizontal",
            "style": "IPY_MODEL_20448423bbd544b0ae229d6f7d59d59b",
            "value": 6285
          }
        },
        "fdd66f7d4154490395fed0bd1abb7d6e": {
          "model_module": "@jupyter-widgets/controls",
          "model_module_version": "1.5.0",
          "model_name": "HBoxModel",
          "state": {
            "_dom_classes": [],
            "_model_module": "@jupyter-widgets/controls",
            "_model_module_version": "1.5.0",
            "_model_name": "HBoxModel",
            "_view_count": null,
            "_view_module": "@jupyter-widgets/controls",
            "_view_module_version": "1.5.0",
            "_view_name": "HBoxView",
            "box_style": "",
            "children": [
              "IPY_MODEL_2e0c9c54675c41b28c927ad4c9180415",
              "IPY_MODEL_e80aef37bf184872bce7e4e2f2def7da",
              "IPY_MODEL_7701cabece4346c8a2869344745d4c55"
            ],
            "layout": "IPY_MODEL_07b80699fae34355a7b586bd9eb2eb18"
          }
        }
      }
    }
  },
  "nbformat": 4,
  "nbformat_minor": 0
}